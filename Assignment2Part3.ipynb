{
 "cells": [
  {
   "cell_type": "code",
   "execution_count": 2,
   "metadata": {},
   "outputs": [],
   "source": [
    "import numpy as np\n",
    "import matplotlib.pyplot as plt\n",
    "from numpy import transpose\n",
    "from numpy.linalg import inv\n",
    "plt.style.use('ggplot')\n",
    "from numpy import genfromtxt\n",
    "import scipy.spatial.distance as cd\n",
    "from matplotlib.pyplot import figure"
   ]
  },
  {
   "cell_type": "code",
   "execution_count": 3,
   "metadata": {},
   "outputs": [],
   "source": [
    "def generate_points(m,n):\n",
    "    \"\"\" function to randomly sample m patterns in {-1,1}^n or {0,1}^n\n",
    "    OUTPUT: m by n matrix X of patterns and m by 1 vector Y of labels\n",
    "      \"\"\"\n",
    "\n",
    "    #samples for winnow are in {0,1}^n instead. \n",
    "    Xwin = np.random.randint(2, size=(m, n))\n",
    "    Ywin = Xwin[:,[0]]\n",
    "\n",
    "    X = 2*Xwin - 1\n",
    "    Y = X[:,[0]]\n",
    "\n",
    "    return Xwin, Ywin, X,Y\n",
    "\n",
    "def perceptron(X,Y):\n",
    "    rows,cols = X.shape\n",
    "    weight = np.zeros((1,cols))\n",
    "    for t in range(rows):\n",
    "        xt = X[[t],:]\n",
    "        yt = Y[[t],:]\n",
    "        ypred = np.sign(weight@(xt.T))\n",
    "        if(yt!=ypred):\n",
    "          weight = weight + yt*xt\n",
    "    return weight\n",
    "\n",
    "def winnow(X,Y):\n",
    "  rows,cols = X.shape\n",
    "  weight = np.ones((1,cols))\n",
    "  for t in range(rows):\n",
    "      xt = X[[t],:]\n",
    "      yt = Y[[t],:]\n",
    "      ypred = (weight@(xt.T))>=cols\n",
    "      if(yt!=ypred):\n",
    "        weight = 2.0**((yt - ypred)*xt) * weight\n",
    "  return weight\n",
    "\n",
    "def least_squares(X,Y):\n",
    "  rows, cols = X.shape\n",
    "  weights = np.linalg.pinv(X)@Y\n",
    "  return weights\n",
    "\n",
    "\n",
    "def one_NN(Xtrain, Ytrain,Xtest):\n",
    "  DISTANCE_MATRIX = cd.cdist(Xtest,Xtrain) #compute distance between training and testing points\n",
    "  index_closest = np.argmin(DISTANCE_MATRIX, axis=1)\n",
    "  predictions = Ytrain[index_closest]\n",
    "  return predictions \n"
   ]
  },
  {
   "attachments": {},
   "cell_type": "markdown",
   "metadata": {},
   "source": [
    "PERCEPTRON"
   ]
  },
  {
   "cell_type": "code",
   "execution_count": 4,
   "metadata": {},
   "outputs": [
    {
     "name": "stdout",
     "output_type": "stream",
     "text": [
      "0\n",
      "1\n",
      "2\n",
      "3\n",
      "4\n",
      "5\n",
      "6\n",
      "7\n",
      "8\n",
      "9\n",
      "10\n",
      "11\n",
      "12\n",
      "13\n",
      "14\n",
      "15\n",
      "16\n",
      "17\n",
      "18\n",
      "19\n"
     ]
    }
   ],
   "source": [
    "maxN = 100\n",
    "MAXRUNS = 20\n",
    "estimated_comp_perceptron = np.zeros((MAXRUNS, maxN))\n",
    "delta = 0.01\n",
    "test_samples = 1700\n",
    "tol = 100*np.sqrt(np.log(1/delta)/(2*test_samples))\n",
    "\n",
    "\n",
    "for runs in range(MAXRUNS):\n",
    "    print(runs)\n",
    "    for n in range(1,maxN+1):\n",
    "        for m in range(1,2**n + 1):\n",
    "            Xwin, Ywin, X,Y = generate_points(m,n)\n",
    "            weight=perceptron(X,Y)\n",
    "\n",
    "            Xwin_test, Ywin_test, X_test,Y_test = generate_points(test_samples,n)\n",
    "            emp_err = 100*np.mean(np.sign(weight@(X_test.T)) != Y_test.T)\n",
    "            if(emp_err<10-tol):\n",
    "                break\n",
    "        estimated_comp_perceptron[runs,n-1] = m\n"
   ]
  },
  {
   "cell_type": "code",
   "execution_count": 5,
   "metadata": {},
   "outputs": [],
   "source": [
    "#perceptron's estimated sample complexity's average and std over the 20 runs\n",
    "average_estimated_comp_perceptron = np.mean(estimated_comp_perceptron, axis=0)\n",
    "std_estimated_comp_perceptron = np.std(estimated_comp_perceptron, axis=0)"
   ]
  },
  {
   "cell_type": "code",
   "execution_count": 6,
   "metadata": {},
   "outputs": [
    {
     "data": {
      "image/png": "[encoded data removed]",
      "text/plain": [
       "<Figure size 432x288 with 1 Axes>"
      ]
     },
     "metadata": {},
     "output_type": "display_data"
    }
   ],
   "source": [
    "#figure(figsize=(7,7), dpi=100)\n",
    "plt.errorbar(np.arange((maxN))+1, average_estimated_comp_perceptron, std_estimated_comp_perceptron, linestyle='None', marker='.', ecolor='b')\n",
    "plt.xlabel('n')\n",
    "plt.ylabel('m')\n",
    "plt.savefig('Q3_1.png')\n",
    "plt.show()"
   ]
  },
  {
   "attachments": {},
   "cell_type": "markdown",
   "metadata": {},
   "source": [
    "WINNOW"
   ]
  },
  {
   "cell_type": "code",
   "execution_count": 7,
   "metadata": {},
   "outputs": [
    {
     "name": "stdout",
     "output_type": "stream",
     "text": [
      "0\n",
      "1\n",
      "2\n",
      "3\n",
      "4\n",
      "5\n",
      "6\n",
      "7\n",
      "8\n",
      "9\n",
      "10\n",
      "11\n",
      "12\n",
      "13\n",
      "14\n",
      "15\n",
      "16\n",
      "17\n",
      "18\n",
      "19\n"
     ]
    }
   ],
   "source": [
    "maxN = 100\n",
    "MAXRUNS = 20\n",
    "estimated_comp_winnow = np.zeros((MAXRUNS, maxN))\n",
    "delta = 0.01\n",
    "test_samples = 1700\n",
    "tol = 100*np.sqrt(np.log(1/delta)/(2*test_samples))\n",
    "\n",
    "\n",
    "for runs in range(MAXRUNS):\n",
    "    print(runs)\n",
    "    for n in range(1,maxN+1):\n",
    "        for m in range(1,2**n + 1):\n",
    "            Xwin, Ywin, X,Y = generate_points(m,n)\n",
    "            weight = winnow(Xwin,Ywin)\n",
    "\n",
    "            Xwin_test, Ywin_test, X_test,Y_test = generate_points(test_samples,n)\n",
    "            emp_err = 100*np.mean(((weight@(Xwin_test.T))>=n) != Ywin_test.T)\n",
    "            if(emp_err<10-tol):\n",
    "                break\n",
    "        estimated_comp_winnow[runs,n-1] = m"
   ]
  },
  {
   "cell_type": "code",
   "execution_count": 8,
   "metadata": {},
   "outputs": [],
   "source": [
    "#winnow's estimated sample complexity's average and std over the 20 runs\n",
    "average_estimated_comp_winnow = np.mean(estimated_comp_winnow, axis=0)\n",
    "std_estimated_comp_winnow = np.std(estimated_comp_winnow, axis=0)"
   ]
  },
  {
   "cell_type": "code",
   "execution_count": 9,
   "metadata": {},
   "outputs": [
    {
     "data": {
      "image/png": "[encoded data removed]",
      "text/plain": [
       "<Figure size 432x288 with 1 Axes>"
      ]
     },
     "metadata": {},
     "output_type": "display_data"
    }
   ],
   "source": [
    "#figure(figsize=(7,7), dpi=100)\n",
    "plt.errorbar(np.arange((maxN))+1, average_estimated_comp_winnow, std_estimated_comp_winnow, linestyle='None', marker='.', ecolor='b')\n",
    "\n",
    "plt.savefig('Q3_2.png')\n",
    "plt.show()"
   ]
  },
  {
   "attachments": {},
   "cell_type": "markdown",
   "metadata": {},
   "source": [
    "LEAST SQUARES"
   ]
  },
  {
   "cell_type": "code",
   "execution_count": 10,
   "metadata": {},
   "outputs": [],
   "source": [
    "Xwin, Ywin, X,Y = generate_points(10,5)\n",
    "weight = least_squares(X,Y)"
   ]
  },
  {
   "cell_type": "code",
   "execution_count": 11,
   "metadata": {},
   "outputs": [
    {
     "name": "stdout",
     "output_type": "stream",
     "text": [
      "0\n",
      "1\n",
      "2\n",
      "3\n",
      "4\n",
      "5\n",
      "6\n",
      "7\n",
      "8\n",
      "9\n",
      "10\n",
      "11\n",
      "12\n",
      "13\n",
      "14\n",
      "15\n",
      "16\n",
      "17\n",
      "18\n",
      "19\n"
     ]
    }
   ],
   "source": [
    "maxN = 100\n",
    "MAXRUNS = 20\n",
    "estimated_comp_LSQ = np.zeros((MAXRUNS, maxN))\n",
    "delta = 0.01\n",
    "test_samples = 1700\n",
    "tol = 100*np.sqrt(np.log(1/delta)/(2*test_samples))\n",
    "\n",
    "\n",
    "for runs in range(MAXRUNS):\n",
    "    print(runs)\n",
    "    for n in range(1,maxN+1):\n",
    "        for m in range(1,2**n + 1):\n",
    "            Xwin, Ywin, X,Y = generate_points(m,n)\n",
    "            weight = least_squares(X,Y)\n",
    "\n",
    "            Xwin_test, Ywin_test, X_test,Y_test = generate_points(test_samples,n)\n",
    "            emp_err = 100*np.mean(((np.sign(X_test@weight))!=Y_test))\n",
    "            if(emp_err<10-tol):\n",
    "                break\n",
    "        estimated_comp_LSQ[runs,n-1] = m"
   ]
  },
  {
   "cell_type": "code",
   "execution_count": 12,
   "metadata": {},
   "outputs": [],
   "source": [
    "#LSQ's estimated sample complexity's average and std over the 20 runs\n",
    "average_estimated_comp_LSQ = np.mean(estimated_comp_LSQ, axis=0)\n",
    "std_estimated_comp_LSQ = np.std(estimated_comp_LSQ, axis=0)"
   ]
  },
  {
   "cell_type": "code",
   "execution_count": 13,
   "metadata": {},
   "outputs": [
    {
     "data": {
      "image/png": "[encoded data removed]",
      "text/plain": [
       "<Figure size 432x288 with 1 Axes>"
      ]
     },
     "metadata": {},
     "output_type": "display_data"
    }
   ],
   "source": [
    "#figure(figsize=(7,7), dpi=100)\n",
    "plt.errorbar(np.arange((maxN))+1, average_estimated_comp_LSQ, std_estimated_comp_LSQ, linestyle='None', marker='.', ecolor='b')\n",
    "\n",
    "plt.savefig('Q3_3.png')\n",
    "plt.show()"
   ]
  },
  {
   "attachments": {},
   "cell_type": "markdown",
   "metadata": {},
   "source": [
    "1NN"
   ]
  },
  {
   "cell_type": "code",
   "execution_count": 14,
   "metadata": {},
   "outputs": [
    {
     "name": "stdout",
     "output_type": "stream",
     "text": [
      "0\n",
      "1\n",
      "2\n",
      "3\n",
      "4\n",
      "5\n",
      "6\n",
      "7\n",
      "8\n",
      "9\n",
      "10\n",
      "11\n",
      "12\n",
      "13\n",
      "14\n",
      "15\n",
      "16\n",
      "17\n",
      "18\n",
      "19\n"
     ]
    }
   ],
   "source": [
    "#runs for 14 mins\n",
    "maxN = 14\n",
    "MAXRUNS = 20\n",
    "estimated_comp_oneNN = np.zeros((MAXRUNS, maxN))\n",
    "delta = 0.01\n",
    "test_samples = 1000\n",
    "tol = 100*np.sqrt(np.log(1/delta)/(2*test_samples))\n",
    "\n",
    "\n",
    "for runs in range(MAXRUNS):\n",
    "    print(runs)\n",
    "    for n in range(1,maxN+1):\n",
    "        m=0\n",
    "        while(1):\n",
    "            m=m+1\n",
    "            Xwin, Ywin, X,Y = generate_points(m,n) #training data\n",
    "            Xwin_test, Ywin_test, X_test,Y_test = generate_points(test_samples,n) #testing data\n",
    "            ypred = one_NN(X,Y,X_test)\n",
    "            emp_err = 100*np.mean((ypred!=Y_test))\n",
    "            if(emp_err<10-tol):\n",
    "                break\n",
    "        estimated_comp_oneNN[runs,n-1] = m"
   ]
  },
  {
   "cell_type": "code",
   "execution_count": 15,
   "metadata": {},
   "outputs": [],
   "source": [
    "#1nn's estimated sample complexity's average and std over the 20 runs\n",
    "average_estimated_comp_oneNN = np.mean(estimated_comp_oneNN, axis=0)\n",
    "std_estimated_comp_oneNN = np.std(estimated_comp_oneNN, axis=0)\n"
   ]
  },
  {
   "cell_type": "code",
   "execution_count": 16,
   "metadata": {},
   "outputs": [
    {
     "data": {
      "image/png": "[encoded data removed]",
      "text/plain": [
       "<Figure size 432x288 with 1 Axes>"
      ]
     },
     "metadata": {},
     "output_type": "display_data"
    }
   ],
   "source": [
    "#figure(figsize=(7,7), dpi=100)\n",
    "plt.errorbar(np.arange((maxN))+1, average_estimated_comp_oneNN, std_estimated_comp_oneNN, linestyle='None', marker='.', ecolor='b')\n",
    "\n",
    "plt.savefig('Q3_4.png')\n",
    "plt.show()"
   ]
  }
 ],
 "metadata": {
  "kernelspec": {
   "display_name": "base",
   "language": "python",
   "name": "python3"
  },
  "language_info": {
   "codemirror_mode": {
    "name": "ipython",
    "version": 3
   },
   "file_extension": ".py",
   "mimetype": "text/x-python",
   "name": "python",
   "nbconvert_exporter": "python",
   "pygments_lexer": "ipython3",
   "version": "3.9.7"
  },
  "orig_nbformat": 4,
  "vscode": {
   "interpreter": {
    "hash": "3dd5ba0fcdb24de16818bfb70fb7995edac6a09e5545214c1bd690016a414ed1"
   }
  }
 },
 "nbformat": 4,
 "nbformat_minor": 2
}
