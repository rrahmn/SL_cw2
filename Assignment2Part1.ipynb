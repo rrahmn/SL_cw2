{
 "cells": [
  {
   "cell_type": "code",
   "execution_count": 1,
   "metadata": {},
   "outputs": [],
   "source": [
    "import numpy as np\n",
    "import matplotlib.pyplot as plt\n",
    "from numpy import transpose\n",
    "from numpy.linalg import inv\n",
    "plt.style.use('ggplot')\n",
    "np.random.seed(0)\n",
    "from numpy import genfromtxt"
   ]
  },
  {
   "cell_type": "code",
   "execution_count": 2,
   "metadata": {},
   "outputs": [],
   "source": [
    "#reading in data\n",
    "zipcombo = np.array(genfromtxt('zipcombo.dat.txt'))     #full data set"
   ]
  },
  {
   "cell_type": "code",
   "execution_count": 3,
   "metadata": {},
   "outputs": [
    {
     "data": {
      "image/png": "[encoded data removed]",
      "text/plain": [
       "<Figure size 432x288 with 1 Axes>"
      ]
     },
     "metadata": {},
     "output_type": "display_data"
    }
   ],
   "source": [
    "vals, freq = np.unique(zipcombo[:,0], return_counts=True)\n",
    "plt.bar(vals, freq)\n",
    "plt.xticks(np.arange(0, 10, 1))\n",
    "plt.savefig('Q1_1.png')\n",
    "plt.show()"
   ]
  },
  {
   "cell_type": "code",
   "execution_count": 4,
   "metadata": {},
   "outputs": [],
   "source": [
    "\n",
    "def OneVersusRest(data, classes):\n",
    "    \"\"\" function to transform data labels into -1,1 where 1 is class k and -1 is rest \n",
    "    input: original labels\n",
    "    output: transformed labels in rows=NumberOfDataPoints by columns=NumberOfClasses dimensional array so that each column k has labels +1 if th original label was k or -1 else\"\"\"\n",
    "    original_labels = data[:,[0]]\n",
    "    NumberOfDataPoints = data.shape[0]\n",
    "    NumberOfClasses = classes.shape[1]\n",
    "    transformed_labels = np.zeros((NumberOfDataPoints, NumberOfClasses))\n",
    "\n",
    "    for i in range(NumberOfClasses):\n",
    "        k = classes[0,i]\n",
    "        transformed_labels[:,i] = 2*(original_labels[:,0]==k) - 1\n",
    "    return transformed_labels\n",
    "\n",
    "def Poly_kernel_matrix(x,y,d):\n",
    "    \"\"\" function to compute gram matrix for polynomial kernel with power d=1. Using the first power we can then iteratively multiply the gram matrix with itself to build higher powers of it. \"\"\"\n",
    "    data1 = x.copy()\n",
    "    data2 = y.copy()\n",
    "    data1 = data1[:,1:] #getting rid of label column\n",
    "    data2 = data2[:,1:] #getting rid of label column\n",
    "    K = (data1@ np.transpose(data2))\n",
    "    return K\n",
    "\n",
    "\n",
    "\n",
    "def test_one_versus_rest(testlabels,classes,powers, alpha, kernelmatrix):\n",
    "    \"\"\" testing function for one versus rest with polynomial kernel\n",
    "    inputs:\n",
    "        testlabels: the ground truth labels of the testing data\n",
    "        classes: the possible classes of our data \n",
    "        powers: the powers that we want to pass to polynomial kernel\n",
    "        alpha: the alpha values found by the training algorithm\n",
    "        kernelmatrix: the gram matrix with rows corresponding to our training data and columns corresponding to testing data\n",
    "        \n",
    "        outputs:\n",
    "            \n",
    "            confidence: the (NumberOfPowers by NumberOfClasses by NumberOfDataPoints) 3D-dimensional array containing \n",
    "            the confidences of each of our 10(=NumberOfClasses) OVR classifiers trained on the training data with polynomial kernel power=d (for d=1 to NumberOfPowers) tested on a \n",
    "            test set with size=NumberOfDataPoints. \n",
    "            prediction: the (NumberOfPowers by NumberOfDataPoints) array containing the predicted label which is found by taking the confidence array and taking argmax of the confidence array across \n",
    "            second dimension of the array (ie across NumberOfClasses). This finds the indices(or labels) that maximise the confidence\n",
    "            accuracy: the (1 by NumberOfPowers) dimensional accuracies of our predictions. Found by checking the prediction array against the ground truth labels\"\"\"\n",
    "    testing_data = testlabels.copy()\n",
    "    \n",
    "    K1 = kernelmatrix\n",
    "\n",
    "    NumberOfClasses = classes.shape[1]\n",
    "    NumberOfDataPoints = testing_data.shape[0]\n",
    "    NumberOfPowers = powers.shape[1]\n",
    "    confidence = np.zeros((NumberOfPowers,NumberOfClasses,NumberOfDataPoints))\n",
    "    predictions = np.zeros((NumberOfPowers,NumberOfDataPoints))\n",
    "    counter = np.zeros((NumberOfPowers,NumberOfDataPoints))\n",
    "\n",
    "    currK=1\n",
    "    for d in range(NumberOfPowers):\n",
    "        currK = currK*K1 #mutiplying gram matrix with itself to find powers of gram matrix iteratively\n",
    "        for t in range(NumberOfDataPoints):\n",
    "            y_t = testing_data[[t],0] #receive label\n",
    "\n",
    "            confidence[d,:,[t]] = (np.matmul(alpha[d,:,:],currK[:, [t]])).T #computing confidence\n",
    "            predictions[d,[t]] = np.argmax(confidence[d,:,[t]], axis=1)  #predict by argmaxing to find indices that maximise confidence\n",
    "            y_hat = predictions[d,[t]]\n",
    "            \n",
    "            #if correct prediction\n",
    "            counter[d,[t]] = 1*((y_hat  == y_t))\n",
    "\n",
    "        \n",
    "    accuracy = 100*np.sum(counter,axis=1)/NumberOfDataPoints\n",
    "    return accuracy, confidence, predictions\n",
    "\n",
    "\n",
    "\n",
    "\n",
    "\n",
    "\n",
    "\n",
    "def train_one_versus_rest(traininglabels,classes,powers, EPOCHS,kernelmatrix):\n",
    "    \"\"\"\n",
    "    function to train NumberOfClasses ovr classifiers in parallel\n",
    "    INPUT\n",
    "     data: training data's original labels \n",
    "     classes: labels we want to classify the data to\n",
    "     powers: powers we're passing to our kernel function\n",
    "     EPOCHS: is the number of times we cycle through data\n",
    "    kernelmatrix: the gram matrix with rows corresponding to our training data and columns also corresponding to training data\n",
    "\n",
    "     OUTPUT\n",
    "     alpha: the final alpha values after the training has finished\n",
    "     it is (NumberOfPowers by NumberOfClasses by NumberOfDataPoints) dimensional\n",
    "    \"\"\"\n",
    "    training_data = traininglabels.copy()\n",
    "    k_class_train = OneVersusRest(training_data,classes)\n",
    "    K1 = kernelmatrix\n",
    "\n",
    "\n",
    "    \n",
    "    NumberOfClasses = classes.shape[1]\n",
    "    NumberOfDataPoints = training_data.shape[0]\n",
    "    NumberOfPowers = powers.shape[1]\n",
    "    #initialise alpha vector to zeros\n",
    "    alpha = np.zeros((NumberOfPowers,NumberOfClasses,NumberOfDataPoints))\n",
    "    currK=1\n",
    "    for epoch in range(EPOCHS):\n",
    "        currK=1\n",
    "        for d in range(NumberOfPowers):\n",
    "            currK = currK*K1 #gram matrix power\n",
    "            for t in range(NumberOfDataPoints):\n",
    "                y_t = k_class_train[[t],:] #receive labels in OVR form\n",
    "\n",
    "                #prediction step\n",
    "                y_hat = np.sign(np.matmul(alpha[d,:,:],currK[:, [t]])) \n",
    "                y_hat = np.squeeze(y_hat)\n",
    "                #training step\n",
    "                alpha[d,:,t] = alpha[d,:,t] + y_t*((y_hat != y_t)) #update alpha only if prediction wrong\n",
    "\n",
    "    return alpha\n",
    "\n"
   ]
  },
  {
   "cell_type": "markdown",
   "metadata": {},
   "source": [
    "Basic Results: Perform 20 runs for d = 1, . . . , 7 each run should randomly split zipcombo into 80%\n",
    "train and 20% test. Report the mean test and train error rates as well as well as standard deviations.\n",
    "Thus your data table, here, will be 2 × 7 with each “cell” containing a mean±std.\n"
   ]
  },
  {
   "cell_type": "code",
   "execution_count": 5,
   "metadata": {},
   "outputs": [],
   "source": [
    "#we compute the full polynomial kernel gram matrix so that we don't have to recompute the same values and just extract the rows and columns we need\n",
    "full_ker_poly  = Poly_kernel_matrix(zipcombo,zipcombo,1) "
   ]
  },
  {
   "cell_type": "code",
   "execution_count": 6,
   "metadata": {},
   "outputs": [],
   "source": [
    "#this code cell takes about 4 minutes to run\n",
    "MAXRUNS=20\n",
    "powers=np.array([[1,2,3,4,5,6,7]])\n",
    "full_data = zipcombo.copy()\n",
    "labelsdata = full_data[:,[0]] #extract the labels\n",
    "classes = np.array([[0,1,2,3,4,5,6,7,8,9]])\n",
    "NUMPOWERS = powers.shape[1]\n",
    "epochs=2\n",
    "rng = np.random.default_rng(seed=7) #rng for shuffling data\n",
    "indicesFullData = np.arange(full_data.shape[0]) #we will keep track of the indices of the data so that we can extract the right rows and columns from full polynomial kernel fram matrix\n",
    "\n",
    "\n",
    "#arrays to store accuracies\n",
    "all_training_accuracies = np.zeros((MAXRUNS, NUMPOWERS))\n",
    "all_testing_accuracies = np.zeros((MAXRUNS, NUMPOWERS))\n",
    "\n",
    "for runs in range(MAXRUNS):\n",
    "    rng.shuffle(indicesFullData, axis=0) #shuffle indices\n",
    "    splits=np.array_split(labelsdata[indicesFullData,[0]],5) #5 splits for training and testing separation\n",
    "    training_data =np.array([np.hstack(splits[:4])]).T #4/5 parts or 80% as training split\n",
    "    testing_data = np.array([splits[4]]).T #1/5 parts or 20% as testing split\n",
    "\n",
    "    #split indices into training and testing indices    \n",
    "    indexsplit = np.array_split(indicesFullData,5)\n",
    "    indextrain = np.concatenate((indexsplit[0], indexsplit[1],indexsplit[2],indexsplit[3]))\n",
    "    indextest = indexsplit[4]\n",
    "\n",
    "    #extraxt training and testing kernels from full gram matrix by using the corresponding indices\n",
    "    trainingkernel = full_ker_poly[indextrain,][:,indextrain]\n",
    "    testingkernel = full_ker_poly[indextrain,][:,indextest]\n",
    "\n",
    "    alpha = train_one_versus_rest(training_data,classes,powers,epochs,trainingkernel) #training and returning alpha\n",
    "    training_acc, training_conf, train_predictions = test_one_versus_rest(training_data,classes,powers, alpha,trainingkernel) #training accuracies\n",
    "    testing_acc, testing_conf, test_predictions = test_one_versus_rest(testing_data,classes,powers, alpha,testingkernel) #testing accuracies\n",
    "\n",
    "    all_training_accuracies[runs,:] = training_acc  #storing accuracies\n",
    "    all_testing_accuracies[runs,:] = testing_acc    #storing accuracies\n",
    "\n",
    "    #storing predictions so that we can take out the optimal predictions out later after we crossvalidate to find optimal d values\n",
    "    if(runs==0):\n",
    "        test_predictions_store = test_predictions\n",
    "        train_predictions_store = train_predictions\n",
    "    else:\n",
    "        test_predictions_store = np.dstack((test_predictions_store,test_predictions))\n",
    "        train_predictions_store = np.dstack((train_predictions_store,train_predictions))\n",
    "\n",
    "#transposing arrays for a nicer form to work with\n",
    "test_predictions_store = np.transpose(test_predictions_store,(2,0,1))\n",
    "train_predictions_store = np.transpose(train_predictions_store,(2,0,1))"
   ]
  },
  {
   "cell_type": "code",
   "execution_count": 7,
   "metadata": {},
   "outputs": [
    {
     "name": "stdout",
     "output_type": "stream",
     "text": [
      ">>>ONE VERSUS REST multiclass prediction<<<\n",
      "training errors(mean±std):\n",
      "8.97±1.4       2.12±0.55       0.79±0.13       0.49±0.13       0.38±0.25       0.24±0.09       0.21±0.06       \n",
      "testing errors(mean±std):\n",
      "10.52±1.45     4.82±0.64     3.6±0.39     3.5±0.52     3.21±0.41     3.18±0.4     3.19±0.46     "
     ]
    }
   ],
   "source": [
    "test_errors  = 100 - all_testing_accuracies\n",
    "train_errors  = 100 - all_training_accuracies\n",
    "print('>>>ONE VERSUS REST multiclass prediction<<<')\n",
    "print('training errors(mean±std):')\n",
    "for d in range(NUMPOWERS):\n",
    "    print(str(round(np.mean(train_errors, axis=0)[d],2)) + \"±\" +  str(round(np.std(train_errors, axis=0)[d],2)),  end='       ')\n",
    "print('\\ntesting errors(mean±std):')\n",
    "for d in range(NUMPOWERS):\n",
    "    print(str(round(np.mean(test_errors, axis=0)[d],2)) + \"±\" +  str(round(np.std(test_errors, axis=0)[d],2)),  end='     ')"
   ]
  },
  {
   "cell_type": "markdown",
   "metadata": {},
   "source": [
    " Cross-validation: Perform 20 runs : when using the 80% training data split from within to perform\n",
    "5-fold cross-validation to select the “best” parameter d\n",
    "∗\n",
    "then retrain on full 80% training set using\n",
    "d\n",
    "∗ and then record the test errors on the remaining 20%. Thus you will find 20 d\n",
    "∗ and 20 test errors.\n",
    "Your final result will consist of a mean test error±std and a mean d\n",
    "∗ with std."
   ]
  },
  {
   "cell_type": "code",
   "execution_count": 8,
   "metadata": {},
   "outputs": [
    {
     "name": "stderr",
     "output_type": "stream",
     "text": [
      "c:\\Users\\riand\\anaconda3\\lib\\site-packages\\numpy\\core\\_asarray.py:102: VisibleDeprecationWarning: Creating an ndarray from ragged nested sequences (which is a list-or-tuple of lists-or-tuples-or ndarrays with different lengths or shapes) is deprecated. If you meant to do this, you must specify 'dtype=object' when creating the ndarray.\n",
      "  return array(a, dtype, copy=False, order=order)\n"
     ]
    }
   ],
   "source": [
    "#this code cell takes about 11 minutes to run\n",
    "MAXRUNS=20\n",
    "classes = np.array([[0,1,2,3,4,5,6,7,8,9]])\n",
    "powers=np.array([[1,2,3,4,5,6,7]])\n",
    "NUMPOWERS = powers.shape[1]\n",
    "epochs=2\n",
    "full_data = zipcombo.copy()\n",
    "labelsdata = full_data[:,[0]]\n",
    "indicesFullData = np.arange(full_data.shape[0])\n",
    "rng = np.random.default_rng(seed=7) #rng for shuffling data\n",
    "optimal_d = np.zeros((MAXRUNS,1))\n",
    "\n",
    "for runs in range(MAXRUNS):\n",
    "    rng.shuffle(indicesFullData, axis=0)#shuffle indices\n",
    "    splits=np.array_split(labelsdata[indicesFullData,[0]],5) #5 splits for training and testing separation\n",
    "    training_data =np.array([np.hstack(splits[:4])]).T #4/5 parts or 80% as training split\n",
    "    testing_data = np.array([splits[4]]).T #1/5 parts or 20% as testing split\n",
    "    \n",
    "    #split indices into training and testing indices\n",
    "    indexsplit = np.array_split(indicesFullData,5)\n",
    "    indextrain = np.concatenate((indexsplit[0], indexsplit[1],indexsplit[2],indexsplit[3]))\n",
    "    indextest = indexsplit[4]\n",
    "\n",
    "    #cross validation to find optimal d\n",
    "    cross_splits = np.array_split(training_data,5)\n",
    "    cross_splits_indices = np.array_split(indextrain,5)\n",
    "    accuracies_sum=0\n",
    "    for fold_number in range(5):\n",
    "        training_folds = np.vstack(np.delete(cross_splits, fold_number))\n",
    "        training_folds_indices = np.hstack(np.delete(cross_splits_indices, fold_number))\n",
    "        trainingkernel = full_ker_poly[training_folds_indices,:][:,training_folds_indices]\n",
    "\n",
    "        #training and testing over cross validation folds\n",
    "        alpha = train_one_versus_rest(training_folds,classes,powers,epochs,trainingkernel) #training and returning alpha\n",
    "        training_acc, training_conf, train_predictions = test_one_versus_rest(training_folds,classes,powers, alpha,trainingkernel) #training accuracies\n",
    "        accuracies_sum = accuracies_sum + training_acc\n",
    "    optimal_d[runs,0] = np.argmax(accuracies_sum, axis=0) #find optimal d* by finding d maximising the cross validation accuracies\n",
    "        \n",
    "    "
   ]
  },
  {
   "cell_type": "code",
   "execution_count": 9,
   "metadata": {},
   "outputs": [
    {
     "name": "stdout",
     "output_type": "stream",
     "text": [
      "run:1, optimal d:7, associated test error:3.228\n",
      "run:2, optimal d:7, associated test error:3.55\n",
      "run:3, optimal d:6, associated test error:2.905\n",
      "run:4, optimal d:7, associated test error:3.873\n",
      "run:5, optimal d:7, associated test error:3.228\n",
      "run:6, optimal d:6, associated test error:2.582\n",
      "run:7, optimal d:6, associated test error:3.12\n",
      "run:8, optimal d:6, associated test error:3.497\n",
      "run:9, optimal d:7, associated test error:2.636\n",
      "run:10, optimal d:7, associated test error:4.196\n",
      "run:11, optimal d:5, associated test error:3.981\n",
      "run:12, optimal d:7, associated test error:2.259\n",
      "run:13, optimal d:6, associated test error:3.443\n",
      "run:14, optimal d:7, associated test error:2.797\n",
      "run:15, optimal d:7, associated test error:3.497\n",
      "run:16, optimal d:7, associated test error:2.69\n",
      "run:17, optimal d:7, associated test error:2.743\n",
      "run:18, optimal d:7, associated test error:3.443\n",
      "run:19, optimal d:6, associated test error:3.443\n",
      "run:20, optimal d:7, associated test error:3.228\n"
     ]
    }
   ],
   "source": [
    "optimal_d = optimal_d.astype(int)\n",
    "#print(optimal_d+1) #20 optimal d value indices. Indexing starts at 0 so shifted by +1 (powers run from 1 to 7)\n",
    "optimal_d_test_errors = test_errors[range(len(optimal_d[:,0])),optimal_d[:,0]]\n",
    "for i in range(20):\n",
    "    print('run:' + str(i+1) + ', optimal d:'+str(optimal_d[i,0]+1) + ', associated test error:' + str(round(optimal_d_test_errors[i],3)))"
   ]
  },
  {
   "cell_type": "code",
   "execution_count": 10,
   "metadata": {},
   "outputs": [
    {
     "name": "stdout",
     "output_type": "stream",
     "text": [
      "mean optimal d with std: 6.6±0.583\n",
      "mean optimal test error with std: 3.217±0.492\n"
     ]
    }
   ],
   "source": [
    "print('mean optimal d with std: ' + str(round(np.mean(optimal_d+1),3)) + \"±\" +  str(round(np.std(optimal_d+1),3)))\n",
    "print('mean optimal test error with std: ' + str(round(np.mean(optimal_d_test_errors),3)) + \"±\" +  str(round(np.std(optimal_d_test_errors),3)))"
   ]
  },
  {
   "cell_type": "markdown",
   "metadata": {},
   "source": [
    "Confusion matrix: Perform 20 runs : when using the 80% training data split that further to perform\n",
    "5-fold cross-validation to select the “best” parameter d\n",
    "∗\n",
    "retrain on the full “80%” training set using d\n",
    "∗\n",
    "and then produce a confusion matrix. Here the goal is to find “confusions” thus if the true label (on\n",
    "the test set) was “7” and “2” was predicted then a “error” should recorded for “(7,2)”; the final output\n",
    "will be a 10 × 10 matrix where each cell contains a confusion error rate and its standard deviation\n",
    "(here you will have averaged over the 20 runs). Note the diagonal will be 0."
   ]
  },
  {
   "cell_type": "code",
   "execution_count": 11,
   "metadata": {},
   "outputs": [],
   "source": [
    "MAXRUNS=20\n",
    "powers=np.array([[1,2,3,4,5,6,7]])\n",
    "full_data = zipcombo.copy()\n",
    "classes = np.array([[0,1,2,3,4,5,6,7,8,9]])\n",
    "NUMPOWERS = powers.shape[1]\n",
    "epochs=2\n",
    "rng = np.random.default_rng(seed=7) #rng for shuffling data\n",
    "indicesFullData = np.arange(full_data.shape[0])\n",
    "\n",
    "#in confusion matrix the row represents the true label and the column the represents the predicted label found by the perceptron\n",
    "confusionMatrix = np.zeros((MAXRUNS,10,10))\n",
    "confusionMatrixRowSums = np.zeros((MAXRUNS,10,1))\n",
    "optimal_d_test_predictions = (test_predictions_store[range(len(optimal_d[:,0])),optimal_d[:,0],:]).astype(int)\n",
    "optimal_d_train_predictions = (train_predictions_store[range(len(optimal_d[:,0])),optimal_d[:,0],:]).astype(int)\n",
    "\n",
    "for runs in range(MAXRUNS):\n",
    "    rng.shuffle(indicesFullData, axis=0)\n",
    "    splits=np.array_split(full_data[indicesFullData,:],5) #5 splits for training and testing separation\n",
    "    testing_data = splits[4] #1/5 parts or 20% as testing split\n",
    " \n",
    "    true_labels = (testing_data[:,[0]]).astype(int) #testing set labels\n",
    "    for i in range(true_labels.shape[0]):\n",
    "        #we add 1 to confusion matrix entry indexed by (true label, predicted label) for each testing label across the 20 runs\n",
    "        confusionMatrix[runs,true_labels[i,0], optimal_d_test_predictions[runs,i]] = confusionMatrix[runs,true_labels[i,0], optimal_d_test_predictions[runs,i]] + 1\n",
    "   \n",
    "    #total number of images with label 'a'  can be found by summing total number of images in row 'a' of confusion matrix. Here we haven't set the diagonal to 0 yet so when we sum we find total number of images\n",
    "    #that have true label='a'\n",
    "    confusionMatrixRowSums[runs,:,[0]] = np.sum(confusionMatrix[runs,:,:], axis=1) \n",
    "\n",
    "    np.fill_diagonal(confusionMatrix[runs,:,:],0) #diagonal needs to be 0"
   ]
  },
  {
   "cell_type": "code",
   "execution_count": 12,
   "metadata": {},
   "outputs": [],
   "source": [
    "error_rate_matrix = confusionMatrix/confusionMatrixRowSums"
   ]
  },
  {
   "cell_type": "code",
   "execution_count": 13,
   "metadata": {},
   "outputs": [
    {
     "name": "stdout",
     "output_type": "stream",
     "text": [
      "error rates(in %) for OVR\n",
      "0.0000±0.0000  0.1129±0.2349  0.1991±0.2930  0.2627±0.3588  0.1282±0.1840  0.0979±0.1816  0.3870±0.4749  0.1126±0.1848  0.1795±0.2133  0.0485±0.1156  \n",
      "0.0213±0.0927  0.0000±0.0000  0.0793±0.1587  0.0593±0.1411  0.2976±0.3469  0.0611±0.1964  0.2435±0.3567  0.0401±0.1205  0.1216±0.2296  0.0793±0.1587  \n",
      "0.3238±0.4030  0.2695±0.3137  0.0000±0.0000  0.5032±0.7272  0.6440±0.5495  0.2382±0.3142  0.2378±0.3555  0.6681±0.6126  0.6648±0.7653  0.0269±0.1172  \n",
      "0.3876±0.5069  0.3671±0.5143  0.6400±0.5551  0.0000±0.0000  0.1502±0.3175  1.8889±1.3175  0.0584±0.1753  0.2202±0.3753  1.0618±0.8854  0.0627±0.1884  \n",
      "0.0291±0.1267  0.5660±0.6531  0.7487±0.5829  0.0598±0.1794  0.0000±0.0000  0.1419±0.3037  0.4931±0.4650  0.3522±0.3865  0.2867±0.3405  0.5205±0.3677  \n",
      "0.9878±0.7209  0.2076±0.3864  0.3626±0.3922  1.1616±0.8854  0.3612±0.5011  0.0000±0.0000  0.6257±0.7723  0.3105±0.4208  0.5592±0.6310  0.4745±0.6487  \n",
      "1.0085±0.5814  0.3181±0.4593  0.1208±0.3084  0.0318±0.1388  0.3249±0.3920  0.4731±0.4727  0.0000±0.0000  0.0911±0.2173  0.2375±0.3436  0.0565±0.1697  \n",
      "0.0967±0.2303  0.1884±0.2880  0.5415±0.5826  0.1646±0.2856  0.8172±0.7253  0.0954±0.2275  0.0888±0.3869  0.0000±0.0000  0.2942±0.3840  0.9142±0.8677  \n",
      "0.8812±0.7479  0.3788±0.4533  0.5926±0.6660  1.5277±1.0709  0.5580±0.6293  1.3725±1.0884  0.1375±0.4124  0.3683±0.5750  0.0000±0.0000  0.5580±0.4780  \n",
      "0.1828±0.2794  0.1241±0.2488  0.1224±0.2457  0.2153±0.3439  1.3822±1.2087  0.1846±0.2825  0.1228±0.2458  1.3587±0.8656  0.1435±0.3031  0.0000±0.0000  \n"
     ]
    }
   ],
   "source": [
    "error_rate_mean = np.mean(100*error_rate_matrix, axis=0)\n",
    "error_rate_std = np.std(100*error_rate_matrix, axis=0)\n",
    "print('error rates(in %) for OVR')\n",
    "# print('                    ', end='')\n",
    "# for i in range(10):\n",
    "#     print('predicted='+str(i),end='    ')\n",
    "# print('')\n",
    "\n",
    "for i in range(10):\n",
    "    # print('true label = '+str(i),end='      ')\n",
    "    for j in range(10):\n",
    "        print(\"%.4f\" % error_rate_mean[i,j], end='')\n",
    "        print('±', end='')\n",
    "        print(\"%.4f\" % error_rate_std[i,j], end='  ')\n",
    "    print('')\n",
    "    \n",
    "    "
   ]
  },
  {
   "cell_type": "markdown",
   "metadata": {},
   "source": [
    "Within the dataset relative to your experiments there will be five hardest to predict correctly “pixelated\n",
    "images.” Print out the visualisation of these five digits along with their labels. Is it surprising that\n",
    "these are hard to predict?\n"
   ]
  },
  {
   "cell_type": "code",
   "execution_count": 14,
   "metadata": {},
   "outputs": [],
   "source": [
    "MAXRUNS=20\n",
    "powers=np.array([[1,2,3,4,5,6,7]])\n",
    "full_data = zipcombo.copy()\n",
    "classes = np.array([[0,1,2,3,4,5,6,7,8,9]])\n",
    "NUMPOWERS = powers.shape[1]\n",
    "epochs=2\n",
    "rng = np.random.default_rng(seed=7) #rng for shuffling data\n",
    "indicesFullData = np.arange(full_data.shape[0])\n",
    "\n",
    "\n",
    "incorrectly_predicted = np.zeros((1,full_data.shape[0]))\n",
    "for runs in range(MAXRUNS):\n",
    "    rng.shuffle(indicesFullData, axis=0) #shuffled indices\n",
    "    splits=np.array_split(full_data[indicesFullData,:],5) #5 splits for training and testing separation\n",
    "    training_data = np.vstack(splits[:4]) #4/5 parts or 80% as training split\n",
    "    testing_data = splits[4] #1/5 parts or 20% as testing split\n",
    "\n",
    "    #extracting data labels for full shuffled dataset\n",
    "    true_labels = (full_data[indicesFullData,0]).astype(int)\n",
    "    \n",
    "    #concatenating training and testing predictions under optimal d values\n",
    "    optimal_predicted_labels = np.concatenate((optimal_d_train_predictions[runs,:],optimal_d_test_predictions[runs,:]),axis=0)\n",
    "\n",
    "    #adding 1 to incorrectly predicted counter array every where the prediction doesn't match the true label\n",
    "    #the data is shuffled so when adding 1 to the incorrectly predicted counter array we take this into account by splicing the counter array with the shuffled indices\n",
    "    incorrectly_predicted[:,indicesFullData] += (optimal_predicted_labels!=true_labels)"
   ]
  },
  {
   "cell_type": "code",
   "execution_count": 15,
   "metadata": {},
   "outputs": [
    {
     "data": {
      "image/png": "[encoded data removed]",
      "text/plain": [
       "<Figure size 432x288 with 1 Axes>"
      ]
     },
     "metadata": {},
     "output_type": "display_data"
    },
    {
     "data": {
      "image/png": "[encoded data removed]",
      "text/plain": [
       "<Figure size 432x288 with 1 Axes>"
      ]
     },
     "metadata": {},
     "output_type": "display_data"
    },
    {
     "data": {
      "image/png": "[encoded data removed]",
      "text/plain": [
       "<Figure size 432x288 with 1 Axes>"
      ]
     },
     "metadata": {},
     "output_type": "display_data"
    },
    {
     "data": {
      "image/png": "[encoded data removed]",
      "text/plain": [
       "<Figure size 432x288 with 1 Axes>"
      ]
     },
     "metadata": {},
     "output_type": "display_data"
    },
    {
     "data": {
      "image/png": "[encoded data removed]",
      "text/plain": [
       "<Figure size 432x288 with 1 Axes>"
      ]
     },
     "metadata": {},
     "output_type": "display_data"
    }
   ],
   "source": [
    "temp = np.argsort(-incorrectly_predicted) #we reverse sort the inccorectly predicted counter array to make it into descending order\n",
    "indices_of_5_most_pixelated = temp[0,:5] #then we just take the 5 first indices of the array sorted in ascending order\n",
    "counter=1\n",
    "for i in indices_of_5_most_pixelated:\n",
    "    counter=counter+1\n",
    "    #print(i)\n",
    "    plt.imshow(np.reshape(full_data[i,1:],(16,16)), cmap='gray')\n",
    "    plt.grid(None)\n",
    "    plt.axis('off')\n",
    "    plt.title('true label: ' + str(int(full_data[i,0])))\n",
    "    plt.savefig('Q1_' + str(counter)+'.png')\n",
    "    plt.show()"
   ]
  },
  {
   "cell_type": "markdown",
   "metadata": {},
   "source": [
    "Repeat 1 and 2 (d∗ is now c and {1, . . . , 7} is now S) above with a Gaussian kernel $K(p,q) = e^{-c || p - q||^{2}}$ c the width of the kernel is now a parameter which must be optimised during cross-validation however, you will also need to perform some initial experiments to a decide a reasonable set S of values to crossvalidate c over.\n"
   ]
  },
  {
   "cell_type": "code",
   "execution_count": 16,
   "metadata": {},
   "outputs": [],
   "source": [
    "import scipy.spatial.distance as cd\n",
    "def Gaussian_kernel_matrix(x,y,c):\n",
    "    \"\"\" function to return the log of gaussian kernel gram matrix with parameter array c \"\"\"\n",
    "    data1 = x.copy()\n",
    "    data2 = y.copy()\n",
    "    data1 = data1[:,1:] #getting rid of label column\n",
    "    data2 = data2[:,1:] #getting rid of label column\n",
    "    #cdist allows us to compute pairwise squared euclidean distances between rows of x and rows of y\n",
    "    K = ((cd.cdist(data1, data2))**2) #I will multiply by c and exponentiate during training to reduce training costs\n",
    "\n",
    "    return K\n",
    "\n",
    "def test_one_versus_rest(test,classes,powers, alpha,testing_kernel):\n",
    "    \"\"\" testing function for one versus rest with gaussian kernel\n",
    "    inputs:\n",
    "        test: the ground truth labels of the testing data\n",
    "        classes: the possible classes of our data \n",
    "        powers: the powers that we want to pass to polynomial kernel\n",
    "        alpha: the alpha values found by the training algorithm\n",
    "        testing_kernel\n",
    "        \n",
    "        outputs:\n",
    "            \n",
    "            confidence: the (NumberOfPowers by NumberOfClasses by NumberOfDataPoints) 3D-dimensional array containing \n",
    "            the confidences of each of our 10(=NumberOfClasses) OVR classifiers trained on the training data with polynomial kernel power=d (for d=1 to NumberOfPowers) tested on a \n",
    "            test set with size=NumberOfDataPoints. \n",
    "            prediction: the (NumberOfPowers by NumberOfDataPoints) array containing the predicted label which is found by taking the confidence array and taking argmax of the confidence array across \n",
    "            second dimension of the array (ie across NumberOfClasses). This finds the indices(or labels) that maximise the confidence\n",
    "            accuracy: the (1 by NumberOfPowers) dimensional accuracies of our predictions. Found by checking the prediction array against the ground truth labels\"\"\"\n",
    "    testing_data = test.copy()\n",
    "\n",
    "\n",
    "    NumberOfClasses = classes.shape[1]\n",
    "    NumberOfDataPoints = testing_data.shape[0]\n",
    "    NumberOfPowers = powers.shape[1]\n",
    "    confidence = np.zeros((NumberOfPowers,NumberOfClasses,NumberOfDataPoints))\n",
    "    predictions = np.zeros((NumberOfPowers,NumberOfDataPoints))\n",
    "    counter = np.zeros((NumberOfPowers,NumberOfDataPoints))\n",
    "\n",
    "    for d in range(NumberOfPowers):\n",
    "        currK = np.exp(-1*powers[0,d]*testing_kernel)\n",
    "        for t in range(NumberOfDataPoints):\n",
    "            y_t = testing_data[[t],0] #receive label\n",
    "\n",
    "\n",
    "            \n",
    "            confidence[d,:,[t]] = (np.matmul(alpha[d,:,:],currK[:, [t]])).T\n",
    "            predictions[d,[t]] = np.argmax(confidence[d,:,[t]], axis=1)\n",
    "            y_hat = predictions[d,[t]]\n",
    "            \n",
    "            #if correct prediction\n",
    "            counter[d,[t]] = 1*((y_hat  == y_t))\n",
    "\n",
    "        \n",
    "    accuracy = 100*np.sum(counter,axis=1)/NumberOfDataPoints\n",
    "    return accuracy, confidence, predictions\n",
    "\n",
    "\n",
    "def train_one_versus_rest(labelsdata,classes,powers, EPOCHS,training_kernel):\n",
    "    \"\"\"\n",
    "    function to train NumberOfClasses ovr classifiers in parallel\n",
    "    INPUT\n",
    "     data: training data's original labels \n",
    "     classes: labels we want to classify the data to\n",
    "     powers: powers we're passing to our kernel function\n",
    "     EPOCHS: is the number of times we cycle through data\n",
    "     training_kernel\n",
    "\n",
    "     OUTPUT\n",
    "     alpha: the final alpha values after the training has finished\n",
    "     it is (NumberOfPowers by NumberOfClasses by NumberOfDataPoints) dimensional\n",
    "    \"\"\"\n",
    "    training_data = labelsdata.copy()\n",
    "    k_class_train = OneVersusRest(training_data,classes)\n",
    "\n",
    "\n",
    "    \n",
    "    NumberOfClasses = classes.shape[1]\n",
    "    NumberOfDataPoints = training_data.shape[0]\n",
    "    NumberOfPowers = powers.shape[1]\n",
    "    #initialise alpha vector\n",
    "    alpha = np.zeros((NumberOfPowers,NumberOfClasses,NumberOfDataPoints))\n",
    "    for epoch in range(EPOCHS):\n",
    "        for d in range(NumberOfPowers):\n",
    "\n",
    "            currK = np.exp(-1*powers[0,d]*training_kernel)#here i calculate the actual gaussian kernel values for the range of c values(widths).Doing this I don't have to store a gaussian kernel matrix for each c \n",
    "\n",
    "\n",
    "            for t in range(NumberOfDataPoints):\n",
    "                y_t = k_class_train[[t],:] #receive label\n",
    "\n",
    "\n",
    "                #prediction step\n",
    "                y_hat = np.sign(np.matmul(alpha[d,:,:],currK[:, [t]]))\n",
    "                y_hat = np.squeeze(y_hat)\n",
    "                #training step\n",
    "                alpha[d,:,t] = alpha[d,:,t] + y_t*((y_hat != y_t)) #update alpha only if prediction wrong\n",
    "\n",
    "    return alpha\n",
    "\n"
   ]
  },
  {
   "cell_type": "code",
   "execution_count": 17,
   "metadata": {},
   "outputs": [],
   "source": [
    "\n",
    "full_gaussian_kernel = Gaussian_kernel_matrix(zipcombo,zipcombo,1)"
   ]
  },
  {
   "cell_type": "code",
   "execution_count": 18,
   "metadata": {},
   "outputs": [
    {
     "name": "stdout",
     "output_type": "stream",
     "text": [
      "0\n",
      "1\n",
      "2\n",
      "3\n",
      "4\n"
     ]
    }
   ],
   "source": [
    "#this code cell takes about 2 minutes to run\n",
    "#initial exploration to find c range to crossvalidate over\n",
    "MAXRUNS=5\n",
    "\n",
    "powers = np.array([[-1,-0.75, -0.5, -0.25, 0, 0.25,0.5, 0.75, 1, 1.25, 1.5, 1.75, 2]])\n",
    "\n",
    "full_data = zipcombo.copy()\n",
    "classes = np.array([[0,1,2,3,4,5,6,7,8,9]])\n",
    "NUMPOWERS = powers.shape[1]\n",
    "epochs=2\n",
    "rng = np.random.default_rng(seed=7) #rng for shuffling data\n",
    "indicesFullData = np.arange(full_data.shape[0])\n",
    "\n",
    "\n",
    "initial_exploration_training_accuracies = np.zeros((MAXRUNS, NUMPOWERS))\n",
    "\n",
    "\n",
    "for runs in range(MAXRUNS):\n",
    "    print(runs)\n",
    "    rng.shuffle(indicesFullData, axis=0)\n",
    "    splits=np.array_split(labelsdata[indicesFullData,[0]],5) #5 splits for training and testing separation\n",
    "    training_data =np.array([np.hstack(splits[:4])]).T #4/5 parts or 80% as training split\n",
    "\n",
    "    indexsplit = np.array_split(indicesFullData,5)\n",
    "    indextrain = np.concatenate((indexsplit[0], indexsplit[1],indexsplit[2],indexsplit[3]))\n",
    "    training_kernel = full_gaussian_kernel[indextrain,:][:,indextrain]\n",
    "\n",
    "    \n",
    "    alpha = train_one_versus_rest(training_data,classes,powers,epochs,training_kernel) #training and returning alpha\n",
    "    training_acc, training_conf, train_predictions = test_one_versus_rest(training_data,classes,powers, alpha,training_kernel) #training accuracies\n",
    "\n",
    "\n",
    "    initial_exploration_training_accuracies[runs,:] = training_acc  #storing exploratory accuracies\n"
   ]
  },
  {
   "cell_type": "code",
   "execution_count": 19,
   "metadata": {},
   "outputs": [
    {
     "name": "stdout",
     "output_type": "stream",
     "text": [
      "training accuracies for OVR with gaussian kernel with parameter c averaged over 5 runs:\n",
      "c=-1.0   3.250\n",
      "c=-0.75   3.186\n",
      "c=-0.5   3.159\n",
      "c=-0.25   3.111\n",
      "c=0.0   10.507\n",
      "c=0.25   99.642\n",
      "c=0.5   99.653\n",
      "c=0.75   99.629\n",
      "c=1.0   99.624\n",
      "c=1.25   99.624\n",
      "c=1.5   99.624\n",
      "c=1.75   99.626\n",
      "c=2.0   99.621\n"
     ]
    }
   ],
   "source": [
    "print('training accuracies for OVR with gaussian kernel with parameter c averaged over 5 runs:')\n",
    "\n",
    "for i in range(NUMPOWERS):\n",
    "    print('c=' + str(powers[0,i]) + \"   %.3f\" %(np.mean(initial_exploration_training_accuracies, axis=0))[i])"
   ]
  },
  {
   "attachments": {},
   "cell_type": "markdown",
   "metadata": {},
   "source": [
    "Above we can see that the initial exploration training accuracies sharply increase between c=0 and c=1. To avoid the risk of overfitting, I will not investigate beyond c=1 as the training accuracy at c=1 is already quite high. Instead I will further investigate  values of c=(0.5)^n for n=0 to 15 to investigate what's happening between 0 and 1 for ever decreasing values of c."
   ]
  },
  {
   "cell_type": "code",
   "execution_count": 20,
   "metadata": {},
   "outputs": [
    {
     "name": "stdout",
     "output_type": "stream",
     "text": [
      "0\n",
      "1\n",
      "2\n",
      "3\n",
      "4\n"
     ]
    }
   ],
   "source": [
    "#this cell runs for about 3 mins\n",
    "#initial exploration to find c range to crossvalidate over\n",
    "MAXRUNS=5\n",
    "\n",
    "powers = (np.array([0.5**np.arange(16)]))\n",
    "\n",
    "full_data = zipcombo.copy()\n",
    "classes = np.array([[0,1,2,3,4,5,6,7,8,9]])\n",
    "NUMPOWERS = powers.shape[1]\n",
    "epochs=2\n",
    "rng = np.random.default_rng(seed=7) #rng for shuffling data\n",
    "indicesFullData = np.arange(full_data.shape[0])\n",
    "\n",
    "\n",
    "initial_exploration_training_accuracies = np.zeros((MAXRUNS, NUMPOWERS))\n",
    "\n",
    "\n",
    "for runs in range(MAXRUNS):\n",
    "    print(runs)\n",
    "    rng.shuffle(indicesFullData, axis=0)\n",
    "    splits=np.array_split(labelsdata[indicesFullData,[0]],5) #5 splits for training and testing separation\n",
    "    training_data =np.array([np.hstack(splits[:4])]).T #4/5 parts or 80% as training split\n",
    "\n",
    "    indexsplit = np.array_split(indicesFullData,5)\n",
    "    indextrain = np.concatenate((indexsplit[0], indexsplit[1],indexsplit[2],indexsplit[3]))\n",
    "    training_kernel = full_gaussian_kernel[indextrain,:][:,indextrain]\n",
    "\n",
    "    \n",
    "    alpha = train_one_versus_rest(training_data,classes,powers,epochs,training_kernel) #training and returning alpha\n",
    "    training_acc, training_conf, train_predictions = test_one_versus_rest(training_data,classes,powers, alpha,training_kernel) #training accuracies\n",
    "\n",
    "\n",
    "    initial_exploration_training_accuracies[runs,:] = training_acc  #storing exploratory accuracies"
   ]
  },
  {
   "cell_type": "code",
   "execution_count": 21,
   "metadata": {},
   "outputs": [
    {
     "name": "stdout",
     "output_type": "stream",
     "text": [
      "training accuracies for OVR with gaussian kernel with parameter c averaged over 5 runs:\n",
      "index:0, c=1.0   99.624\n",
      "index:1, c=0.5   99.653\n",
      "index:2, c=0.25   99.642\n",
      "index:3, c=0.125   99.696\n",
      "index:4, c=0.0625   99.769\n",
      "index:5, c=0.03125   99.855\n",
      "index:6, c=0.015625   99.796\n",
      "index:7, c=0.0078125   99.336\n",
      "index:8, c=0.00390625   97.871\n",
      "index:9, c=0.001953125   95.454\n",
      "index:10, c=0.0009765625   92.526\n",
      "index:11, c=0.00048828125   89.622\n",
      "index:12, c=0.000244140625   82.646\n",
      "index:13, c=0.0001220703125   85.622\n",
      "index:14, c=6.103515625e-05   67.552\n",
      "index:15, c=3.0517578125e-05   59.524\n"
     ]
    }
   ],
   "source": [
    "print('training accuracies for OVR with gaussian kernel with parameter c averaged over 5 runs:')\n",
    "\n",
    "for i in range(NUMPOWERS):\n",
    "    print('index:'+ str(i)+', c=' + str(powers[0,i]) + \"   %.3f\" %(np.mean(initial_exploration_training_accuracies, axis=0))[i])"
   ]
  },
  {
   "attachments": {},
   "cell_type": "markdown",
   "metadata": {},
   "source": [
    "As we can see we first pass the 90% accuracy threshold at index 10 and from index 10 to index 5 the accuracies are increasing. Thus I will be cross validating values of c=(0.5)^n for n=5 to 10 and this will be S."
   ]
  },
  {
   "cell_type": "markdown",
   "metadata": {},
   "source": [
    "1) repeated in gaussian kernel"
   ]
  },
  {
   "cell_type": "code",
   "execution_count": 22,
   "metadata": {},
   "outputs": [
    {
     "name": "stdout",
     "output_type": "stream",
     "text": [
      "0\n",
      "1\n",
      "2\n",
      "3\n",
      "4\n",
      "5\n",
      "6\n",
      "7\n",
      "8\n",
      "9\n",
      "10\n",
      "11\n",
      "12\n",
      "13\n",
      "14\n",
      "15\n",
      "16\n",
      "17\n",
      "18\n",
      "19\n"
     ]
    }
   ],
   "source": [
    "#this cell runs for about 5 minutes\n",
    "S = (np.array([0.5**np.arange(5,11)]))\n",
    "MAXRUNS=20\n",
    "\n",
    "\n",
    "full_data = zipcombo.copy()\n",
    "classes = np.array([[0,1,2,3,4,5,6,7,8,9]])\n",
    "NUMPOWERS = S.shape[1]\n",
    "epochs=2\n",
    "rng = np.random.default_rng(seed=7) #rng for shuffling data\n",
    "indicesFullData = np.arange(full_data.shape[0])\n",
    "\n",
    "\n",
    "all_training_accuracies_gaussian = np.zeros((MAXRUNS, NUMPOWERS))\n",
    "all_testing_accuracies_gaussian = np.zeros((MAXRUNS, NUMPOWERS))\n",
    "\n",
    "for runs in range(MAXRUNS):\n",
    "    print(runs)\n",
    "    rng.shuffle(indicesFullData, axis=0)\n",
    "    splits=np.array_split(labelsdata[indicesFullData,[0]],5) #5 splits for training and testing separation\n",
    "    training_data =np.array([np.hstack(splits[:4])]).T #4/5 parts or 80% as training split\n",
    "    testing_data = np.array([splits[4]]).T #1/5 parts or 20% as testing split\n",
    "    indexsplit = np.array_split(indicesFullData,5)\n",
    "    indextrain = np.concatenate((indexsplit[0], indexsplit[1],indexsplit[2],indexsplit[3]))\n",
    "    indextest = indexsplit[4]\n",
    "\n",
    "\n",
    "    training_kernel = full_gaussian_kernel[indextrain,:][:,indextrain]\n",
    "    testing_kernel = full_gaussian_kernel[indextrain,:][:,indextest]\n",
    "\n",
    "    alpha = train_one_versus_rest(training_data,classes,S,epochs,training_kernel) #training and returning alpha\n",
    "    training_acc, training_conf, train_predictions = test_one_versus_rest(training_data,classes,S, alpha,training_kernel) #training accuracies\n",
    "    testing_acc, testing_conf, test_predictions = test_one_versus_rest(testing_data,classes,S, alpha,testing_kernel) #testing accuracies\n",
    "\n",
    "    all_training_accuracies_gaussian[runs,:] = training_acc  #storing accuracies\n",
    "    all_testing_accuracies_gaussian[runs,:] = testing_acc    #storing accuracies\n",
    "\n",
    "    if(runs==0):\n",
    "        test_predictions_store_gaussian = test_predictions\n",
    "        train_predictions_store_gaussian = train_predictions\n",
    "    else:\n",
    "        test_predictions_store_gaussian = np.dstack((test_predictions_store_gaussian,test_predictions))\n",
    "        train_predictions_store_gaussian = np.dstack((train_predictions_store_gaussian,train_predictions))\n",
    "\n",
    "test_predictions_store_gaussian = np.transpose(test_predictions_store_gaussian,(2,0,1))\n",
    "train_predictions_store_gaussian = np.transpose(train_predictions_store_gaussian,(2,0,1))"
   ]
  },
  {
   "cell_type": "code",
   "execution_count": 23,
   "metadata": {},
   "outputs": [
    {
     "name": "stdout",
     "output_type": "stream",
     "text": [
      "c            training error(mean±std)            testing errors(mean±std)\n",
      "0.03125            0.1741±0.0695                     3.3217±0.4545\n",
      "0.015625            0.2373±0.1356                     2.9398±0.3665\n",
      "0.0078125            0.6419±0.2343                     3.5557±0.4950\n",
      "0.00390625            2.4802±0.4829                     5.0538±0.8802\n",
      "0.001953125            4.5436±0.9064                     6.4228±1.0458\n",
      "0.0009765625            7.9661±2.5635                     9.2200±2.8364\n"
     ]
    }
   ],
   "source": [
    "test_errors_gaussian  = 100 - all_testing_accuracies_gaussian\n",
    "train_errors_gaussian  = 100 - all_training_accuracies_gaussian\n",
    "\n",
    "print('c            training error(mean±std)            testing errors(mean±std)')\n",
    "for d in range(NUMPOWERS):\n",
    "    print(str(S[0,d]), end='            ')\n",
    "    print(str(\"%.4f\" % np.mean(train_errors_gaussian, axis=0)[d]) + '±' + str(\"%.4f\" % np.std(train_errors_gaussian, axis=0)[d]), end='                     ')\n",
    "    print(str(\"%.4f\" % np.mean(test_errors_gaussian, axis=0)[d]) + '±' + str(\"%.4f\" % np.std(test_errors_gaussian, axis=0)[d]))\n",
    "\n",
    "\n"
   ]
  },
  {
   "cell_type": "markdown",
   "metadata": {},
   "source": [
    "2) repeated in gaussian kernel"
   ]
  },
  {
   "cell_type": "code",
   "execution_count": 24,
   "metadata": {},
   "outputs": [
    {
     "name": "stdout",
     "output_type": "stream",
     "text": [
      "0\n"
     ]
    },
    {
     "name": "stderr",
     "output_type": "stream",
     "text": [
      "c:\\Users\\riand\\anaconda3\\lib\\site-packages\\numpy\\core\\_asarray.py:102: VisibleDeprecationWarning: Creating an ndarray from ragged nested sequences (which is a list-or-tuple of lists-or-tuples-or ndarrays with different lengths or shapes) is deprecated. If you meant to do this, you must specify 'dtype=object' when creating the ndarray.\n",
      "  return array(a, dtype, copy=False, order=order)\n"
     ]
    },
    {
     "name": "stdout",
     "output_type": "stream",
     "text": [
      "1\n",
      "2\n",
      "3\n",
      "4\n",
      "5\n",
      "6\n",
      "7\n",
      "8\n",
      "9\n",
      "10\n",
      "11\n",
      "12\n",
      "13\n",
      "14\n",
      "15\n",
      "16\n",
      "17\n",
      "18\n",
      "19\n"
     ]
    }
   ],
   "source": [
    "#this cell runs for about 16 minutes\n",
    "MAXRUNS=20\n",
    "classes = np.array([[0,1,2,3,4,5,6,7,8,9]])\n",
    "S = (np.array([0.5**np.arange(5,11)]))\n",
    "NUMPOWERS = powers.shape[1]\n",
    "epochs=2\n",
    "\n",
    "indicesFullData = np.arange(full_data.shape[0])\n",
    "rng = np.random.default_rng(seed=7) #rng for shuffling data\n",
    "optimal_c_gaussian = np.zeros((MAXRUNS,1))\n",
    "\n",
    "for runs in range(MAXRUNS):\n",
    "    print(runs)\n",
    "    rng.shuffle(indicesFullData, axis=0)\n",
    "    splits=np.array_split(labelsdata[indicesFullData,[0]],5) #5 splits for training and testing separation\n",
    "    training_data =np.array([np.hstack(splits[:4])]).T #4/5 parts or 80% as training split\n",
    "\n",
    "    \n",
    "    indexsplit = np.array_split(indicesFullData,5)\n",
    "    indextrain = np.concatenate((indexsplit[0], indexsplit[1],indexsplit[2],indexsplit[3]))\n",
    "\n",
    "\n",
    "    #cross validation to find optimal d\n",
    "    cross_splits = np.array_split(training_data,5)\n",
    "    cross_splits_indices = np.array_split(indextrain,5)\n",
    "    accuracies_sum=0\n",
    "    for fold_number in range(5):\n",
    "        training_folds = np.vstack(np.delete(cross_splits, fold_number))\n",
    "        training_folds_indices = np.hstack(np.delete(cross_splits_indices, fold_number))\n",
    "        training_kernel = full_gaussian_kernel[training_folds_indices,:][:,training_folds_indices]\n",
    "\n",
    "\n",
    "        alpha = train_one_versus_rest(training_folds,classes,S,epochs,training_kernel) #training and returning alpha\n",
    "        training_acc, training_conf, train_predictions = test_one_versus_rest(training_folds,classes,S, alpha,training_kernel) #training accuracies\n",
    "        accuracies_sum = accuracies_sum + training_acc\n",
    "    optimal_c_gaussian[runs,0] = np.argmax(accuracies_sum, axis=0)"
   ]
  },
  {
   "cell_type": "code",
   "execution_count": 25,
   "metadata": {},
   "outputs": [
    {
     "name": "stdout",
     "output_type": "stream",
     "text": [
      "run:1, optimal c:0.03125, associated test error:2.743\n",
      "run:2, optimal c:0.03125, associated test error:3.281\n",
      "run:3, optimal c:0.015625, associated test error:2.797\n",
      "run:4, optimal c:0.03125, associated test error:3.55\n",
      "run:5, optimal c:0.03125, associated test error:3.281\n",
      "run:6, optimal c:0.03125, associated test error:3.066\n",
      "run:7, optimal c:0.03125, associated test error:3.819\n",
      "run:8, optimal c:0.03125, associated test error:3.712\n",
      "run:9, optimal c:0.03125, associated test error:2.905\n",
      "run:10, optimal c:0.03125, associated test error:3.604\n",
      "run:11, optimal c:0.03125, associated test error:3.281\n",
      "run:12, optimal c:0.015625, associated test error:2.259\n",
      "run:13, optimal c:0.03125, associated test error:4.034\n",
      "run:14, optimal c:0.03125, associated test error:2.743\n",
      "run:15, optimal c:0.03125, associated test error:3.55\n",
      "run:16, optimal c:0.03125, associated test error:2.69\n",
      "run:17, optimal c:0.03125, associated test error:2.743\n",
      "run:18, optimal c:0.03125, associated test error:4.088\n",
      "run:19, optimal c:0.03125, associated test error:3.765\n",
      "run:20, optimal c:0.03125, associated test error:3.497\n"
     ]
    }
   ],
   "source": [
    "optimal_c_gaussian = optimal_c_gaussian.astype(int)\n",
    "optimal_c_gaussian_test_errors = test_errors_gaussian[range(len(optimal_c_gaussian[:,0])),optimal_c_gaussian[:,0]]\n",
    "for i in range(20):\n",
    "    print('run:' + str(i+1) + ', optimal c:'+str(S[0,optimal_c_gaussian[i,0]]) + ', associated test error:' + str(round(optimal_c_gaussian_test_errors[i],3)))"
   ]
  },
  {
   "cell_type": "code",
   "execution_count": 26,
   "metadata": {},
   "outputs": [
    {
     "name": "stdout",
     "output_type": "stream",
     "text": [
      "mean optimal c with std: 0.03±0.005\n",
      "mean optimal test error with std: 3.271±0.495\n"
     ]
    }
   ],
   "source": [
    "print('mean optimal c with std: ' + str(round(np.mean(S[:,optimal_c_gaussian]),3)) + \"±\" +  str(round(np.std(S[:,optimal_c_gaussian]),3)))\n",
    "print('mean optimal test error with std: ' + str(round(np.mean(optimal_c_gaussian_test_errors),3)) + \"±\" +  str(round(np.std(optimal_c_gaussian_test_errors),3)))"
   ]
  },
  {
   "cell_type": "markdown",
   "metadata": {},
   "source": [
    "6. Choose (research) an alternate method to generalise the kernel perceptron to k-classes then repeat 1\n",
    "and 2"
   ]
  },
  {
   "cell_type": "code",
   "execution_count": 27,
   "metadata": {},
   "outputs": [],
   "source": [
    "def OneVersusOne(label, i,j):\n",
    "    \"\"\" function to transform label in one verus one form \"\"\"\n",
    "    return int(label==i) - int(label==j)\n",
    "\n",
    "def filter_indices(labels,indices,i,j):\n",
    "    \"\"\" function to filter an array of indices keeping only the indices that have labels i and j \"\"\"\n",
    "    return np.intersect1d(np.where(labelsdata==[i,j])[0], indices)\n",
    "\n",
    "def Poly_kernel_matrix(x,y,d):\n",
    "    \"\"\" function to compute gram matrix for polynomial kernel with power d=1. Using the first power we can then iteratively multiply the gram matrix with itself to build higher powers of it. \"\"\"\n",
    "    data1 = x.copy()\n",
    "    data2 = y.copy()\n",
    "    data1 = data1[:,1:] #getting rid of label column\n",
    "    data2 = data2[:,1:] #getting rid of label column\n",
    "    K = (data1@ np.transpose(data2))\n",
    "    return K\n",
    "\n",
    "\n",
    "def test_one_versus_one(all_labels,classes,powers,training_indices,testing_indices,BigAlpha,fullkernelmatrix):\n",
    "    \"\"\" testing function for one versus one with polynomial kernel\n",
    "    inputs:\n",
    "        all_labels: the ground truth labels of the testing data\n",
    "        classes: the possible classes of our data \n",
    "        powers: the powers that we want to pass to polynomial kernel\n",
    "        training_indices: the indices of the data corresponding to training set. Used to extract the right rows of kernel matrix\n",
    "        testing_indices: the indices of the data corresponding to testing set. Used to extract the right columns of kernel matrix\n",
    "        BigAlpha: the alpha values found by the training algorithm\n",
    "        fullkernelmatrixx: the gram matrix calculated for the whole dataset. by calculating it once and extracting what we need we save some time\n",
    "        \n",
    "        outputs:\n",
    "            \n",
    "            confidence: the (NumberOfPowers by NumberOfClasses by NumberOfDataPoints) 3D-dimensional array containing \n",
    "            the confidences of each of our 10(=NumberOfClasses) OVR classifiers trained on the training data with polynomial kernel power=d (for d=1 to NumberOfPowers) tested on a \n",
    "            test set with size=NumberOfDataPoints. \n",
    "            predictions: the (NumberOfPowers  by NumberOfDataPoints) array containing the predicted label which is found by taking the SUM of all the confidences of classsifiers related to digit i \n",
    "            (this gives a NumberOfPowers by NUMCLASSES by NumberOfTestPoints) and taking argmax of this sum of confidence array across the second dimension.This finds the indices(or labels) that maximise the confidence\n",
    "            accuracy: the (1 by NumberOfPowers) dimensional accuracies of our predictions. Found by checking the prediction array against the ground truth labels\"\"\"\n",
    "    NUMCLASSES = classes.shape[1]\n",
    "    NumberOfPowers = powers.shape[1]\n",
    "    counter=0 #this counter will keep track of which of the 45 classifiers we're currently on\n",
    "\n",
    "    index_list_testing = testing_indices\n",
    "    NumberOfTestPoints = index_list_testing.shape[0]\n",
    "    all_confidences = np.zeros((NumberOfPowers,NUMCLASSES,NUMCLASSES, NumberOfTestPoints))\n",
    "    \n",
    "    #for loops to cycle through possible 2 digit combinations\n",
    "    for i in range(NUMCLASSES):\n",
    "        for j in range(i+1,NUMCLASSES):\n",
    "            if(i==j): #not interested in training OVA for i=j as we'd be training on one class whereas OVO requires two\n",
    "                continue\n",
    "            index_list_training = filter_indices(all_labels,training_indices,i,j) #keep only the data that has the labels we're interested in\n",
    "\n",
    "            testing_ker = fullkernelmatrix[index_list_training,:][:,index_list_testing] #extract corresponding kernel values\n",
    "\n",
    "            curr_ker=1\n",
    "            confidence = np.empty((NumberOfPowers,NumberOfTestPoints))\n",
    "            for d in range(NumberOfPowers):\n",
    "                curr_ker = curr_ker*testing_ker #iteratively multiply the kernel matrix with itself to go through the range of powers\n",
    "                confidence = ((BigAlpha[counter])[d,:])@curr_ker #remember counter keeeps track of which classifier we're on\n",
    "                \n",
    "                #since training to distinguish digits i and j is the same as distinguishing labels j and i (just with the +1, -1 OVO labels reversed). We can use this fact to compute the confidence of\n",
    "                #classfier h(j,i) as the negative of the confidence of classifier h(i,j)\n",
    "                all_confidences[d,i,j,:] = confidence\n",
    "                all_confidences[d,j,i,:] = -1*confidence\n",
    "            counter=counter+1\n",
    "\n",
    "    #we sum all the confidences of classifiers that have been trained to distinguish digit i and then find the argmax of all these summed confidences\n",
    "    predictions = np.argmax(np.sum(all_confidences, axis=2), axis=1)\n",
    "    accuracies = 100*np.mean(predictions==np.squeeze(all_labels[testing_indices]),axis=1)\n",
    "    return predictions,accuracies\n",
    "\n",
    "def train_one_versus_one(all_labels,classes,powers, EPOCHS,training_indices,fullkernelmatrix):\n",
    "    \"\"\" training function for one versus one with polynomial kernel\n",
    "    inputs:\n",
    "        all_labels: the ground truth labels of the training data\n",
    "        classes: the possible classes of our data \n",
    "        powers: the powers that we want to pass to polynomial kernel\n",
    "        training_indices: the indices of the data corresponding to training set. Used to extract the right rows of kernel matrix\n",
    "        fullkernelmatrixx: the gram matrix calculated for the whole dataset. by calculating it once and extracting what we need we save some time\n",
    "        \n",
    "        outputs:\n",
    "            \n",
    "            BigAlpha: the alpha values found by the training algorithm. It contains 45 individual (NumberOfPowers by NumberOfDataPoints) arrays, one for each classifier.\"\"\"\n",
    "\n",
    "    NUMCLASSES = classes.shape[1]\n",
    "    NumberOfPowers = powers.shape[1]\n",
    "    BigAlpha = []\n",
    "\n",
    "    for i in range(NUMCLASSES):\n",
    "        for j in range(i+1,NUMCLASSES):\n",
    "            if(i==j): #not interested in training OVA for i=j as we'd be training on one class whereas OVA requires two\n",
    "                continue\n",
    "            index_list = filter_indices(all_labels,training_indices,i,j)\n",
    "            training_ker = fullkernelmatrix[index_list,:][:,index_list]\n",
    "            NumberOfDataPoints = index_list.shape[0]\n",
    "            alpha = np.zeros((NumberOfPowers, NumberOfDataPoints))\n",
    "            for epochs in range(EPOCHS):\n",
    "                curr_ker=1\n",
    "                for d in range(NumberOfPowers):\n",
    "                    curr_ker = curr_ker*training_ker\n",
    "                    for t in range(NumberOfDataPoints):\n",
    "                        y_t = OneVersusOne(all_labels[index_list[t],:],i,j) #receive label and transform to OVO form\n",
    "                        #prediction step\n",
    "                        y_hat = np.sign(alpha[d,:]@curr_ker[:, [t]])\n",
    "                        #training step\n",
    "                        if(y_t!=y_hat):\n",
    "                            alpha[d,t] = alpha[d,t] + y_t #update alpha only if prediction wrong)\n",
    "            BigAlpha.append(alpha)     \n",
    "    return BigAlpha"
   ]
  },
  {
   "attachments": {},
   "cell_type": "markdown",
   "metadata": {},
   "source": [
    "1) repeated with alternative method (Basic Results: Perform 20 runs for d = 1, . . . , 7 each run should randomly split zipcombo into 80%\n",
    "train and 20% test. Report the mean test and train error rates as well as well as standard deviations.\n",
    "Thus your data table, here, will be 2 × 7 with each “cell” containing a mean±std.)."
   ]
  },
  {
   "cell_type": "code",
   "execution_count": 28,
   "metadata": {},
   "outputs": [],
   "source": [
    "full_ker_poly  = Poly_kernel_matrix(zipcombo,zipcombo,1)"
   ]
  },
  {
   "cell_type": "code",
   "execution_count": 29,
   "metadata": {},
   "outputs": [
    {
     "name": "stdout",
     "output_type": "stream",
     "text": [
      "0\n",
      "1\n",
      "2\n",
      "3\n",
      "4\n",
      "5\n",
      "6\n",
      "7\n",
      "8\n",
      "9\n",
      "10\n",
      "11\n",
      "12\n",
      "13\n",
      "14\n",
      "15\n",
      "16\n",
      "17\n",
      "18\n",
      "19\n"
     ]
    }
   ],
   "source": [
    "#this cell runs for about 13 minutes\n",
    "MAXRUNS=20\n",
    "powers=np.array([[1,2,3,4,5,6,7]])\n",
    "labelsdata = full_data[:,[0]]\n",
    "classes = np.array([[0,1,2,3,4,5,6,7,8,9]])\n",
    "NUMPOWERS = powers.shape[1]\n",
    "epochs=2\n",
    "rng = np.random.default_rng(seed=7) #rng for shuffling data\n",
    "indicesFullData = np.arange(full_data.shape[0])\n",
    "all_training_accuracies_ovo = np.zeros((MAXRUNS, NUMPOWERS))\n",
    "all_testing_accuracies_ovo = np.zeros((MAXRUNS, NUMPOWERS))\n",
    "\n",
    "for runs in range(MAXRUNS):\n",
    "    print(runs)\n",
    "    rng.shuffle(indicesFullData, axis=0)\n",
    "\n",
    "    indexsplit = np.array_split(indicesFullData,5)\n",
    "    indextrain = np.concatenate((indexsplit[0], indexsplit[1],indexsplit[2],indexsplit[3]))\n",
    "    indextest = indexsplit[4]\n",
    "\n",
    "    BigAlpha=train_one_versus_one(labelsdata,classes,powers,epochs,indextrain,full_ker_poly) #training and returning alphas\n",
    "    test_predictions,test_accuracies = test_one_versus_one(labelsdata,classes,powers,indextrain,indextest,BigAlpha,full_ker_poly)\n",
    "    train_predictions,train_accuracies = test_one_versus_one(labelsdata,classes,powers,indextrain,indextrain,BigAlpha,full_ker_poly)\n",
    "    all_training_accuracies_ovo[runs,:] = train_accuracies  #storing accuracies\n",
    "    all_testing_accuracies_ovo[runs,:] = test_accuracies    #storing accuracies\n",
    "\n",
    "    if(runs==0):\n",
    "        test_predictions_store_ovo = test_predictions\n",
    "        train_predictions_store_ovo = train_predictions\n",
    "    else:\n",
    "        test_predictions_store_ovo = np.dstack((test_predictions_store_ovo,test_predictions))\n",
    "        train_predictions_store_ovo= np.dstack((train_predictions_store_ovo,train_predictions))\n",
    "\n",
    "test_predictions_store_ovo = np.transpose(test_predictions_store_ovo,(2,0,1))\n",
    "train_predictions_store_ovo = np.transpose(train_predictions_store_ovo,(2,0,1))\n"
   ]
  },
  {
   "cell_type": "code",
   "execution_count": 30,
   "metadata": {},
   "outputs": [
    {
     "name": "stdout",
     "output_type": "stream",
     "text": [
      ">>>ONE VERSUS ONE multiclass prediction<<<\n",
      "training errors(mean±std):\n",
      "14.64±1.62       4.56±0.66       2.33±0.25       1.39±0.16       1.02±0.14       0.81±0.13       0.67±0.12       \n",
      "testing errors(mean±std):\n",
      "15.28±1.94     6.58±0.79     4.8±0.59     4.13±0.48     3.82±0.46     3.67±0.46     3.49±0.45     "
     ]
    }
   ],
   "source": [
    "test_errors_ovo  = 100 - all_testing_accuracies_ovo\n",
    "train_errors_ovo  = 100 - all_training_accuracies_ovo\n",
    "print('>>>ONE VERSUS ONE multiclass prediction<<<')\n",
    "print('training errors(mean±std):')\n",
    "for d in range(NUMPOWERS):\n",
    "    print(str(round(np.mean(train_errors_ovo, axis=0)[d],2)) + \"±\" +  str(round(np.std(train_errors_ovo, axis=0)[d],2)),  end='       ')\n",
    "print('\\ntesting errors(mean±std):')\n",
    "for d in range(NUMPOWERS):\n",
    "    print(str(round(np.mean(test_errors_ovo, axis=0)[d],2)) + \"±\" +  str(round(np.std(test_errors_ovo, axis=0)[d],2)),  end='     ')"
   ]
  },
  {
   "attachments": {},
   "cell_type": "markdown",
   "metadata": {},
   "source": [
    "2) repeated with alternative method( Cross-validation: Perform 20 runs : when using the 80% training data split from within to perform\n",
    "5-fold cross-validation to select the “best” parameter d\n",
    "∗\n",
    "then retrain on full 80% training set using\n",
    "d\n",
    "∗ and then record the test errors on the remaining 20%. Thus you will find 20 d\n",
    "∗ and 20 test errors.\n",
    "Your final result will consist of a mean test error±std and a mean d\n",
    "∗ with std.)."
   ]
  },
  {
   "cell_type": "code",
   "execution_count": 31,
   "metadata": {},
   "outputs": [
    {
     "name": "stdout",
     "output_type": "stream",
     "text": [
      "0\n",
      "1\n",
      "2\n",
      "3\n",
      "4\n",
      "5\n",
      "6\n",
      "7\n",
      "8\n",
      "9\n",
      "10\n",
      "11\n",
      "12\n",
      "13\n",
      "14\n",
      "15\n",
      "16\n",
      "17\n",
      "18\n",
      "19\n"
     ]
    }
   ],
   "source": [
    "#this cell runs for about 44 minutes\n",
    "MAXRUNS=20\n",
    "classes = np.array([[0,1,2,3,4,5,6,7,8,9]])\n",
    "powers=np.array([[1,2,3,4,5,6,7]])\n",
    "NUMPOWERS = powers.shape[1]\n",
    "epochs=2\n",
    "indicesFullData = np.arange(full_data.shape[0])\n",
    "rng = np.random.default_rng(seed=7) #rng for shuffling data\n",
    "optimal_d_ovo = np.zeros((MAXRUNS,1))\n",
    "\n",
    "for runs in range(MAXRUNS):\n",
    "    print(runs)\n",
    "    rng.shuffle(indicesFullData, axis=0)\n",
    "\n",
    "    \n",
    "    indexsplit = np.array_split(indicesFullData,5)\n",
    "    indextrain = np.concatenate((indexsplit[0], indexsplit[1],indexsplit[2],indexsplit[3]))\n",
    "\n",
    "\n",
    "    #cross validation to find optimal d\n",
    "\n",
    "    cross_splits_indices = np.array_split(indextrain,5)\n",
    "    accuracies_sum=0\n",
    "    for fold_number in range(5):\n",
    "        training_folds_indices = np.hstack(np.delete(cross_splits_indices, fold_number))\n",
    "\n",
    "\n",
    "        BigAlpha=train_one_versus_one(labelsdata,classes,powers,epochs,training_folds_indices,full_ker_poly) #training and returning alphas\n",
    "        train_predictions,train_accuracies = test_one_versus_one(labelsdata,classes,powers,training_folds_indices,training_folds_indices,BigAlpha,full_ker_poly)\n",
    "        accuracies_sum = accuracies_sum + train_accuracies\n",
    "    optimal_d_ovo[runs,0] = np.argmax(accuracies_sum, axis=0)"
   ]
  },
  {
   "cell_type": "code",
   "execution_count": 35,
   "metadata": {},
   "outputs": [
    {
     "name": "stdout",
     "output_type": "stream",
     "text": [
      "run:1, optimal d:7, associated test error:3.228\n",
      "run:2, optimal d:7, associated test error:3.55\n",
      "run:3, optimal d:7, associated test error:2.797\n",
      "run:4, optimal d:6, associated test error:3.335\n",
      "run:5, optimal d:7, associated test error:3.228\n",
      "run:6, optimal d:7, associated test error:2.905\n",
      "run:7, optimal d:7, associated test error:3.012\n",
      "run:8, optimal d:7, associated test error:3.335\n",
      "run:9, optimal d:7, associated test error:2.636\n",
      "run:10, optimal d:7, associated test error:4.196\n",
      "run:11, optimal d:7, associated test error:3.335\n",
      "run:12, optimal d:6, associated test error:2.797\n",
      "run:13, optimal d:7, associated test error:3.389\n",
      "run:14, optimal d:7, associated test error:2.797\n",
      "run:15, optimal d:7, associated test error:3.497\n",
      "run:16, optimal d:7, associated test error:2.69\n",
      "run:17, optimal d:7, associated test error:2.743\n",
      "run:18, optimal d:7, associated test error:3.443\n",
      "run:19, optimal d:7, associated test error:3.712\n",
      "run:20, optimal d:7, associated test error:3.228\n"
     ]
    }
   ],
   "source": [
    "optimal_d_ovo = optimal_d_ovo.astype(int)\n",
    "#print(optimal_d+1) #20 optimal d value indices. Indexing starts at 0 so shifted by +1 (powers run from 1 to 7)\n",
    "optimal_d_ovo_test_errors = test_errors[range(len(optimal_d_ovo[:,0])),optimal_d_ovo[:,0]]\n",
    "for i in range(20):\n",
    "    print('run:' + str(i+1) + ', optimal d:'+str(optimal_d_ovo[i,0]+1) + ', associated test error:' + str(round(optimal_d_ovo_test_errors[i],3)))"
   ]
  },
  {
   "cell_type": "code",
   "execution_count": 32,
   "metadata": {},
   "outputs": [
    {
     "name": "stdout",
     "output_type": "stream",
     "text": [
      "mean optimal d with std: 6.9±0.3\n",
      "mean optimal test error with std: 3.193±0.388\n"
     ]
    }
   ],
   "source": [
    "print('mean optimal d with std: ' + str(round(np.mean(optimal_d_ovo+1),3)) + \"±\" +  str(round(np.std(optimal_d_ovo+1),3)))\n",
    "print('mean optimal test error with std: ' + str(round(np.mean(optimal_d_ovo_test_errors),3)) + \"±\" +  str(round(np.std(optimal_d_ovo_test_errors),3)))"
   ]
  }
 ],
 "metadata": {
  "kernelspec": {
   "display_name": "Python 3.9.7 ('base')",
   "language": "python",
   "name": "python3"
  },
  "language_info": {
   "codemirror_mode": {
    "name": "ipython",
    "version": 3
   },
   "file_extension": ".py",
   "mimetype": "text/x-python",
   "name": "python",
   "nbconvert_exporter": "python",
   "pygments_lexer": "ipython3",
   "version": "3.9.7 (default, Sep 16 2021, 16:59:28) [MSC v.1916 64 bit (AMD64)]"
  },
  "orig_nbformat": 4,
  "vscode": {
   "interpreter": {
    "hash": "3dd5ba0fcdb24de16818bfb70fb7995edac6a09e5545214c1bd690016a414ed1"
   }
  }
 },
 "nbformat": 4,
 "nbformat_minor": 2
}
